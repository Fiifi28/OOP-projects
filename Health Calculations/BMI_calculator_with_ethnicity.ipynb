{
 "cells": [
  {
   "cell_type": "markdown",
   "metadata": {},
   "source": [
    "##This is a code that takes a patient's ethnicity and provides them the best option for overall weight-height health calculator"
   ]
  },
  {
   "cell_type": "code",
   "execution_count": null,
   "metadata": {},
   "outputs": [],
   "source": [
    "\n",
    "#This class will take the ethicity of the patient\n",
    "class Ethnicity:\n",
    "    def __init__(self, ethnicity1=\"African\",ethnicity2=\"Caucasian\",ethnicity3=\"Asian\"):\n",
    "        self.ethnicity1 = ethnicity1\n",
    "        self.ethnicity2 = ethnicity2\n",
    "        self.ethnicity3 = ethnicity3\n",
    "        \n",
    "        \n",
    "    def background(self):\n",
    "        if self.ethnicity1.casefold() == self.your_ethnicity:\n",
    "            return \"Please use the waist-hip ratio calculator. BMI measurements are not accurate for Blacks in general.\"\n",
    "        elif (self.ethnicity2.casefold() == self.your_ethnicity.casefold()) or (self.ethnicity3.casefold() == self.your_ethnicity.casefold()):\n",
    "            return \"Please fill in your weight and height\"\n",
    "        return \"Ethnicity not found\"\n",
    "        \n",
    "#This class will inherit the enthnicity and if the conditions for the ethnic group that BMI is good for is met, this BMI code will run. Else it won't.\n",
    "class HealthMeasures(Ethnicity):\n",
    "    def __init__(self,ethnicity1=\"African\",ethnicity2=\"Caucasian\",ethnicity3=\"Asian\"):\n",
    "        super().__init__(ethnicity1, ethnicity2, ethnicity3)\n",
    "        self.weight = None\n",
    "        self.height = None\n",
    "        self.your_ethnicity = input(\"Enter your ethinicity: \")\n",
    "        self.bmi = None\n",
    "    def bmiResults(self):\n",
    "        if self.bmi < 18:\n",
    "            return(f'Your BMI is {self.bmi}, this is classified as underweight')\n",
    "        elif 18 < self.bmi <25:\n",
    "            return (f'Your BMI is {self.bmi}, which is within normal range. Keep it up')\n",
    "        elif 26 < self.bmi < 30:\n",
    "            return (f'Your BMI is {self.bmi}, you are overweight, try loose weight and get it between 18 and 25')\n",
    "        elif 31 < self.bmi < 36:\n",
    "            return (f'Your BMI is {self.bmi}, this is classified as clinical obesity')\n",
    "        elif self.bmi > 37:\n",
    "            return (f'Your BMI is {self.bmi}, this is too high and it is classified as morbid obesity ')\n",
    "    \n",
    "    def displaybmi(self):\n",
    "        if self.ethnicity1.casefold() == self.your_ethnicity.casefold():\n",
    "            return \"The BMI Calculator is currently not available.\"\n",
    "        self.weight = int(input('What is your weight in kilograms?: '))\n",
    "        self.height = float(input('What is your height in metres? '))\n",
    "        self.bmi = self.weight/ (self.height)**2\n",
    "        return self.bmiResults()\n",
    "\n",
    "  \n",
    "patient = HealthMeasures()\n",
    "patient.displaybmi()"
   ]
  }
 ],
 "metadata": {
  "kernelspec": {
   "display_name": "Python 3.9.6 64-bit",
   "language": "python",
   "name": "python3"
  },
  "language_info": {
   "name": "python",
   "version": "3.9.6"
  },
  "orig_nbformat": 4,
  "vscode": {
   "interpreter": {
    "hash": "aee8b7b246df8f9039afb4144a1f6fd8d2ca17a180786b69acc140d282b71a49"
   }
  }
 },
 "nbformat": 4,
 "nbformat_minor": 2
}
