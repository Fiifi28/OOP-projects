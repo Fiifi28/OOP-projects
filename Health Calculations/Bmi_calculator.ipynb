{
 "cells": [
  {
   "cell_type": "markdown",
   "metadata": {},
   "source": [
    "##This programme takes information from a user and transforms that into a BMI number."
   ]
  },
  {
   "cell_type": "code",
   "execution_count": null,
   "metadata": {},
   "outputs": [],
   "source": [
    "\n",
    "class healthMeasures:\n",
    "    def __init__(self, weight, height):\n",
    "        self.weight = weight\n",
    "        self.height = height\n",
    "        self.bmi = self.weight/ (self.height)**2\n",
    "    \n",
    "    def bmiResults(self):\n",
    "        if self.bmi < 18:\n",
    "            return(f'Your BMI is {self.bmi}, this is classified as underweight')\n",
    "        elif 18 < self.bmi <25:\n",
    "            return (f'Your BMI is {self.bmi}, which is within normal range. Keep it up')\n",
    "        elif 26 < self.bmi < 30:\n",
    "            return (f'Your BMI is {self.bmi}, you are overweight, try loose weight and get it between 18 and 25')\n",
    "        elif 31 < self.bmi < 36:\n",
    "            return (f'Your BMI is {self.bmi}, this is classified as clinical obesity')\n",
    "        elif self.bmi > 37:\n",
    "            return (f'Your BMI is {self.bmi}, this is too high and it is classified as morbid obesity ')\n",
    "\n",
    "weight = int(input('What is your weight in kilograms?: '))\n",
    "height = float(input('What is your height in metres? '))\n",
    "\n",
    "Patient = healthMeasures(weight, height)\n",
    "Patient.bmiResults()\n"
   ]
  }
 ],
 "metadata": {
  "language_info": {
   "name": "python"
  },
  "orig_nbformat": 4
 },
 "nbformat": 4,
 "nbformat_minor": 2
}
