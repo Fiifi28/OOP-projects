{
 "cells": [
  {
   "cell_type": "markdown",
   "metadata": {},
   "source": [
    "##This programme takes information from a user and transforms that into a BMI number."
   ]
  },
  {
   "cell_type": "code",
   "execution_count": 6,
   "metadata": {},
   "outputs": [
    {
     "data": {
      "text/plain": [
       "'Your BMI is 29.054752066115704, you are overweight, try loose weight and get it between 18 and 25'"
      ]
     },
     "execution_count": 6,
     "metadata": {},
     "output_type": "execute_result"
    }
   ],
   "source": [
    "\n",
    "class HealthMeasures():\n",
    "    def __init__(self, weight, height):\n",
    "        \n",
    "        self.weight = weight\n",
    "        self.height = height\n",
    "        self.bmi = self.weight/ (self.height)**2\n",
    "    def bmiResults(self):\n",
    "        if self.bmi < 18:\n",
    "            return(f'Your BMI is {self.bmi}, this is classified as underweight')\n",
    "        elif 18 < self.bmi <25:\n",
    "            return (f'Your BMI is {self.bmi}, which is within normal range. Keep it up')\n",
    "        elif 26 < self.bmi < 30:\n",
    "            return (f'Your BMI is {self.bmi}, you are overweight, try loose weight and get it between 18 and 25')\n",
    "        elif 31 < self.bmi < 36:\n",
    "            return (f'Your BMI is {self.bmi}, this is classified as clinical obesity')\n",
    "        elif self.bmi > 37:\n",
    "            return (f'Your BMI is {self.bmi}, this is too high and it is classified as morbid obesity ')\n",
    "\n",
    "weight = int(input(\"What is your weight in kilograms\")) \n",
    "height = float(input(\"What is your height in metres\"))\n",
    "\n",
    "Patient = HealthMeasures(weight, height)\n",
    "Patient.bmiResults()\n"
   ]
  },
  {
   "cell_type": "code",
   "execution_count": null,
   "metadata": {},
   "outputs": [],
   "source": []
  }
 ],
 "metadata": {
  "kernelspec": {
   "display_name": "Python 3.9.6 64-bit",
   "language": "python",
   "name": "python3"
  },
  "language_info": {
   "codemirror_mode": {
    "name": "ipython",
    "version": 3
   },
   "file_extension": ".py",
   "mimetype": "text/x-python",
   "name": "python",
   "nbconvert_exporter": "python",
   "pygments_lexer": "ipython3",
   "version": "3.9.6"
  },
  "orig_nbformat": 4,
  "vscode": {
   "interpreter": {
    "hash": "aee8b7b246df8f9039afb4144a1f6fd8d2ca17a180786b69acc140d282b71a49"
   }
  }
 },
 "nbformat": 4,
 "nbformat_minor": 2
}
