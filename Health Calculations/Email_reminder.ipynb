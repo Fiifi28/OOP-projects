{
 "cells": [
  {
   "cell_type": "markdown",
   "metadata": {},
   "source": [
    "##This programme sends an email reminder to users to check their health. "
   ]
  },
  {
   "cell_type": "code",
   "execution_count": null,
   "metadata": {},
   "outputs": [],
   "source": [
    "import sched\n",
    "import time\n",
    "import smtplib\n",
    "\n",
    "def send_email_reminder(check_day, subject, body, message):\n",
    "  s = sched.scheduler(time.time, time.sleep)\n",
    "  def send_reminder():\n",
    "    if time.strftime(\"%A\") == check_day:\n",
    "      # Connect to the email server and send the reminder email\n",
    "      server = smtplib.SMTP('smtp.gmail.com', 587)\n",
    "      email_message = f\"Subject: {subject}\\n\\n{body}\\n\\n{message}\"\n",
    "      server.starttls()\n",
    "      server.login(\"email\", \"password\")\n",
    "      server.sendmail(\"email\", collect_email(), email_message)\n",
    "      server.quit()\n",
    "  s.enter(1, 1, send_reminder)\n",
    "  s.run()\n",
    "\n",
    "def collect_email():\n",
    "    email = input(\"Enter the recipient's email: \")\n",
    "    return email\n",
    "    \n",
    "send_email_reminder(\"Tuesday\", \"Health Check Day!\", \"Check your BMI and BP\", \"Be Proficient. Your health is your wealth!\")"
   ]
  }
 ],
 "metadata": {
  "kernelspec": {
   "display_name": "Python 3.9.6 64-bit",
   "language": "python",
   "name": "python3"
  },
  "language_info": {
   "name": "python",
   "version": "3.9.6"
  },
  "orig_nbformat": 4,
  "vscode": {
   "interpreter": {
    "hash": "aee8b7b246df8f9039afb4144a1f6fd8d2ca17a180786b69acc140d282b71a49"
   }
  }
 },
 "nbformat": 4,
 "nbformat_minor": 2
}
